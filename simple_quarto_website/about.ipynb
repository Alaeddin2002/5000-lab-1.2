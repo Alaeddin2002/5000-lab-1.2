{
  "cells": [
    {
      "cell_type": "markdown",
      "metadata": {},
      "source": [
        "---\n",
        "title: \"About\"\n",
        "---\n",
        "\n",
        "About this site\n"
      ]
    },
    {
      "cell_type": "markdown",
      "metadata": {},
      "source": [
        "\n",
        "## About Me\n",
        "\n",
        "Lorem ipsum dolor sit amet, consectetur adipiscing elit. Donec non fringilla tellus. Fusce gravida enim nec maximus aliquet. Aenean a blandit dolor. Mauris consectetur, lorem eu fringilla efficitur, arcu mauris facilisis arcu, id posuere ex nisi sit amet lectus. Nam nec rutrum nulla. Duis et justo mauris. Suspendisse justo tellus, tempor eget facilisis suscipit, accumsan sit amet neque\n",
        "## My Goals\n",
        "\n",
        "Nulla facilisi. Donec eu sollicitudin nibh. Nulla consequat consectetur sem a sollicitudin. Praesent dictum eu ligula sed feugiat. Nullam ut convallis ante,\n",
        "## Hobbies\n",
        "\n",
        "Nullam non feugiat tellus, non lobortis tortor. Donec ut consequat purus. Aenean vel ipsum nisi. Proin luctus, augue nec faucibus elementum"
      ]
    },
    {
      "cell_type": "code",
      "execution_count": 1,
      "metadata": {},
      "outputs": [
        {
          "data": {
            "text/plain": [
              "<BarContainer object of 3 artists>"
            ]
          },
          "execution_count": 1,
          "metadata": {},
          "output_type": "execute_result"
        },
        {
          "data": {
            "image/png": "[encoded data removed]",
            "text/plain": [
              "<Figure size 640x480 with 1 Axes>"
            ]
          },
          "metadata": {},
          "output_type": "display_data"
        }
      ],
      "source": [
        "import matplotlib.pyplot as plt \n",
        "import numpy as np\n",
        "\n",
        "x = [\"Soccer\", \"Basketball\", \"Football\"]\n",
        "y = [5,10,15]\n",
        "\n",
        "plt.bar(x,y)"
      ]
    }
  ],
  "metadata": {
    "kernelspec": {
      "display_name": "Python 3 (ipykernel)",
      "language": "python",
      "name": "python3",
      "path": "/opt/anaconda3/share/jupyter/kernels/python3"
    },
    "language_info": {
      "codemirror_mode": {
        "name": "ipython",
        "version": 3
      },
      "file_extension": ".py",
      "mimetype": "text/x-python",
      "name": "python",
      "nbconvert_exporter": "python",
      "pygments_lexer": "ipython3",
      "version": "3.11.7"
    }
  },
  "nbformat": 4,
  "nbformat_minor": 4
}
